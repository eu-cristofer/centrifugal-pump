{
 "cells": [
  {
   "cell_type": "markdown",
   "id": "23b63f49-9cd2-4d61-8395-ce4bfb71c2d5",
   "metadata": {},
   "source": [
    "# Library import and utilities demonstration"
   ]
  },
  {
   "cell_type": "code",
   "execution_count": 1,
   "id": "5917bdb3-c263-4ea3-8eb0-80579ced55a1",
   "metadata": {},
   "outputs": [],
   "source": [
    "from pump import *"
   ]
  },
  {
   "cell_type": "code",
   "execution_count": 2,
   "id": "11366f26-a019-4069-8e03-df803bd3b3a9",
   "metadata": {},
   "outputs": [
    {
     "name": "stdout",
     "output_type": "stream",
     "text": [
      "Function quantity_factory:\n",
      "0.5 kilogram\n",
      "101325.0 pascal\n",
      "1.0132500000000002 bar\n",
      "1 kelvin\n"
     ]
    }
   ],
   "source": [
    "# Example usage as per developement workflow\n",
    "print(\"Function quantity_factory:\")\n",
    "# Mass example\n",
    "mass = quantity_factory(Q_(500, \"gram\"))\n",
    "print(mass)  # 0.5 kilogram\n",
    "\n",
    "# Pressure example\n",
    "atm_pressure = quantity_factory(Q_(1, \"atm\"), context=\"atm\")\n",
    "print(atm_pressure)  # 101325.0 pascal\n",
    "\n",
    "# Delta pressure example\n",
    "delta_pressure = quantity_factory(Q_(1, \"atm\"), context=\"delta\")\n",
    "print(delta_pressure)  # 1.01325 bar\n",
    "\n",
    "# Temperature offset example (delta)\n",
    "# Converting 1 degree Celsius difference to kelvin difference\n",
    "temp_diff = quantity_factory(Q_(1, \"degC\"), context=\"delta\")\n",
    "print(temp_diff)  # 1.0 kelvin"
   ]
  },
  {
   "cell_type": "code",
   "execution_count": 3,
   "id": "ee966777-d5b5-42a6-815e-b83b4ec2ea58",
   "metadata": {},
   "outputs": [
    {
     "name": "stdout",
     "output_type": "stream",
     "text": [
      "\n",
      "Fluid class:\n",
      "Fluid(name=Water, density=1000.0 kilogram / meter ** 3)\n",
      "1000.0 kilogram / meter ** 3\n"
     ]
    }
   ],
   "source": [
    "# Example usage of class Fluid\n",
    "print(\"\\nFluid class:\")\n",
    "water = Fluid(\n",
    "        name=\"Water\",\n",
    "        density=Q_(1000000, \"g/m**3\")\n",
    "    )\n",
    "print(water)\n",
    "print(water.density)"
   ]
  }
 ],
 "metadata": {
  "kernelspec": {
   "display_name": "Python [conda env:pump] *",
   "language": "python",
   "name": "conda-env-pump-py"
  },
  "language_info": {
   "codemirror_mode": {
    "name": "ipython",
    "version": 3
   },
   "file_extension": ".py",
   "mimetype": "text/x-python",
   "name": "python",
   "nbconvert_exporter": "python",
   "pygments_lexer": "ipython3",
   "version": "3.13.2"
  }
 },
 "nbformat": 4,
 "nbformat_minor": 5
}
