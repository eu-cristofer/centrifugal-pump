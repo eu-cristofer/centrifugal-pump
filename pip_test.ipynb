{
 "cells": [
  {
   "cell_type": "code",
   "execution_count": 1,
   "id": "2db070d3-cae6-46f0-b491-d8e662e00e96",
   "metadata": {},
   "outputs": [
    {
     "data": {
      "text/plain": [
       "'pump'"
      ]
     },
     "execution_count": 1,
     "metadata": {},
     "output_type": "execute_result"
    }
   ],
   "source": [
    "import pump\n",
    "pump.__name__"
   ]
  },
  {
   "cell_type": "code",
   "execution_count": 2,
   "id": "4a6df083-8b20-42ae-9e7d-99a97e62797a",
   "metadata": {},
   "outputs": [
    {
     "data": {
      "text/plain": [
       "['Fluid',\n",
       " 'PerformanceChecker',\n",
       " 'DesignPoint',\n",
       " 'ReportGenerator',\n",
       " 'STANDARD_UNITS',\n",
       " 'TestPoint',\n",
       " 'Point',\n",
       " 'Q_',\n",
       " 'PerformanceCurve',\n",
       " 'CONTEXT',\n",
       " 'quantity_factory']"
      ]
     },
     "execution_count": 2,
     "metadata": {},
     "output_type": "execute_result"
    }
   ],
   "source": [
    "pump.__all__"
   ]
  },
  {
   "cell_type": "code",
   "execution_count": 3,
   "id": "1f52eeee-e4ca-43f1-8171-c868a6ebc039",
   "metadata": {},
   "outputs": [
    {
     "data": {
      "text/plain": [
       "'Cristofer Antoni Souza Costa'"
      ]
     },
     "execution_count": 3,
     "metadata": {},
     "output_type": "execute_result"
    }
   ],
   "source": [
    "pump.__author__"
   ]
  },
  {
   "cell_type": "code",
   "execution_count": 4,
   "id": "1785be9a-5ce0-41c6-95c3-ed1b77f02621",
   "metadata": {},
   "outputs": [
    {
     "data": {
      "text/plain": [
       "'0.0.1'"
      ]
     },
     "execution_count": 4,
     "metadata": {},
     "output_type": "execute_result"
    }
   ],
   "source": [
    "pump.__version__"
   ]
  },
  {
   "cell_type": "code",
   "execution_count": 5,
   "id": "4e3cd5a1-d0c5-40a8-8de5-a30b9285331e",
   "metadata": {},
   "outputs": [
    {
     "data": {
      "text/plain": [
       "['CONTEXT',\n",
       " 'DesignPoint',\n",
       " 'Fluid',\n",
       " 'PerformanceChecker',\n",
       " 'PerformanceCurve',\n",
       " 'Point',\n",
       " 'Q_',\n",
       " 'ReportGenerator',\n",
       " 'STANDARD_UNITS',\n",
       " 'TestPoint',\n",
       " '__all__',\n",
       " '__author__',\n",
       " '__builtins__',\n",
       " '__cached__',\n",
       " '__doc__',\n",
       " '__email__',\n",
       " '__file__',\n",
       " '__loader__',\n",
       " '__name__',\n",
       " '__package__',\n",
       " '__path__',\n",
       " '__spec__',\n",
       " '__status__',\n",
       " '__version__',\n",
       " 'performance_curve',\n",
       " 'point',\n",
       " 'quantity_factory',\n",
       " 'utilities']"
      ]
     },
     "execution_count": 5,
     "metadata": {},
     "output_type": "execute_result"
    }
   ],
   "source": [
    "dir(pump)"
   ]
  },
  {
   "cell_type": "code",
   "execution_count": 6,
   "id": "0a757f2c-eacd-4ad5-b194-4194b8facb9f",
   "metadata": {},
   "outputs": [
    {
     "data": {
      "text/html": [
       "10000.0 meter"
      ],
      "text/latex": [
       "$10000.0\\ \\mathrm{meter}$"
      ],
      "text/plain": [
       "<Quantity(10000.0, 'meter')>"
      ]
     },
     "execution_count": 6,
     "metadata": {},
     "output_type": "execute_result"
    }
   ],
   "source": [
    "Q_ = pump.Q_\n",
    "pump.quantity_factory(Q_(10, \"km\"))"
   ]
  }
 ],
 "metadata": {
  "kernelspec": {
   "display_name": "Python [conda env:pump] *",
   "language": "python",
   "name": "conda-env-pump-py"
  },
  "language_info": {
   "codemirror_mode": {
    "name": "ipython",
    "version": 3
   },
   "file_extension": ".py",
   "mimetype": "text/x-python",
   "name": "python",
   "nbconvert_exporter": "python",
   "pygments_lexer": "ipython3",
   "version": "3.13.2"
  }
 },
 "nbformat": 4,
 "nbformat_minor": 5
}
